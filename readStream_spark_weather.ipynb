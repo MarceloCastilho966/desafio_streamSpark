{
 "cells": [
  {
   "cell_type": "markdown",
   "id": "21dd63e0",
   "metadata": {},
   "source": [
    "# Desafio Bulk Spark Stream"
   ]
  },
  {
   "cell_type": "code",
   "execution_count": null,
   "id": "909195f7",
   "metadata": {},
   "outputs": [],
   "source": [
    "from pyspark.sql import SparkSession\n",
    "from pyspark.sql.functions import *\n",
    "from pyspark.sql.types import *\n",
    "import os\n",
    "import shutil\n",
    "\n",
    "# Criando SparkSession com conector mongo-spark\n",
    "spark = SparkSession \\\n",
    "    .builder \\\n",
    "    .appName(\"bulk_stream_spark\")\\\n",
    "    .config(\"spark.logConf\", \"true\")\\\n",
    "    .config('spark.jars.packages', 'org.mongodb.spark:mongo-spark-connector:10.0.0')\\\n",
    "    .getOrCreate()\n",
    "\n",
    "spark.conf.set(\"spark.sql.adaptive.enabled\", False)\n",
    "spark.conf.set(\"spark.sql.debug.maxToStringFields\", 1000)\n",
    "spark.conf.set('spark.sql.caseSensitive', True)"
   ]
  },
  {
   "cell_type": "code",
   "execution_count": null,
   "id": "5e39a67c",
   "metadata": {},
   "outputs": [],
   "source": [
    "# Criação de Schema\n",
    "schema = StructType([StructField('current_observation', \\\n",
    "                                  StructType([StructField('@version', StringType(), True),\\\n",
    "                                              StructField('@xmlns:xsd', StringType(), True),\\\n",
    "                                              StructField('@xmlns:xsi', StringType(), True),\\\n",
    "                                              StructField('@xsi:noNamespaceSchemaLocation', StringType(), True),\\\n",
    "                                              StructField('copyright_url', StringType(), True),\\\n",
    "                                              StructField('credit', StringType(), True),\\\n",
    "                                              StructField('credit_URL', StringType(), True),\\\n",
    "                                              StructField('dewpoint_c', StringType(), True),\\\n",
    "                                              StructField('dewpoint_f', StringType(), True),\\\n",
    "                                              StructField('dewpoint_string', StringType(), True),\\\n",
    "                                              StructField('disclaimer_url', StringType(), True),\\\n",
    "                                              StructField('icon_url_base', StringType(), True),\\\n",
    "                                              StructField('icon_url_name', StringType(), True),\\\n",
    "                                              StructField('image', StructType([\\\n",
    "                                                                               StructField('link', StringType(), True),\\\n",
    "                                                                               StructField('title', StringType(), True),\\\n",
    "                                                                               StructField('url', StringType(), True)]),True),\\\n",
    "                                              StructField('latitude', StringType(), True),\\\n",
    "                                              StructField('location', StringType(), True),\\\n",
    "                                              StructField('longitude', StringType(), True),\\\n",
    "                                              StructField('ob_url', StringType(), True),\\\n",
    "                                              StructField('observation_time', StringType(), True),\\\n",
    "                                              StructField('observation_time_rfc822', StringType(), True),\\\n",
    "                                              StructField('pressure_in', StringType(), True),\\\n",
    "                                              StructField('pressure_mb', StringType(), True),\\\n",
    "                                              StructField('pressure_string', StringType(), True),\\\n",
    "                                              StructField('privacy_policy_url', StringType(), True),\\\n",
    "                                              StructField('relative_humidity', StringType(), True),\\\n",
    "                                              StructField('station_id', StringType(), True),\\\n",
    "                                              StructField('suggested_pickup', StringType(), True),\\\n",
    "                                              StructField('suggested_pickup_period', StringType(), True),\\\n",
    "                                              StructField('temp_c', StringType(), True),\\\n",
    "                                              StructField('temp_f', StringType(), True),\\\n",
    "                                              StructField('temperature_string', StringType(), True),\\\n",
    "                                              StructField('two_day_history_url', StringType(), True),\\\n",
    "                                              StructField('visibility_mi', StringType(), True),\\\n",
    "                                              StructField('weather', StringType(), True),\\\n",
    "                                              StructField('wind_degrees', StringType(), True),\\\n",
    "                                              StructField('wind_dir', StringType(), True),\\\n",
    "                                              StructField('wind_kt', StringType(), True),\\\n",
    "                                              StructField('wind_mph', StringType(), True),\\\n",
    "                                              StructField('wind_string', StringType(), True),\\\n",
    "                                              StructField('windchill_c', StringType(), True),\\\n",
    "                                              StructField('windchill_f', StringType(), True),\\\n",
    "                                              StructField('windchill_string', StringType(), True)]), True)])"
   ]
  },
  {
   "cell_type": "code",
   "execution_count": null,
   "id": "56b98bf8",
   "metadata": {},
   "outputs": [],
   "source": [
    "# Criação do Readstream, definindo seu Schema e path\n",
    "df_json = spark.readStream.format(\"json\")\\\n",
    ".schema(schema)\\\n",
    ".load('/home/marcelo/BULK/desafio_streamSpark/files/*json')"
   ]
  },
  {
   "cell_type": "code",
   "execution_count": null,
   "id": "ad601efe",
   "metadata": {},
   "outputs": [],
   "source": [
    "# Selecionando apenas as informações que serão salvas no MongoDB\n",
    "select = df_json.selectExpr(\"CAST (current_observation.location AS STRING) AS Localizacao\",\n",
    "                        \"CAST (current_observation.observation_time_rfc822 AS STRING) AS Data_Hora\",\n",
    "                        \"CAST (current_observation.temp_c AS DOUBLE) AS Temperatura\",\n",
    "                        \"CAST (current_observation.pressure_in AS DOUBLE) AS Pressao\",\n",
    "                        \"CAST (current_observation.weather AS STRING) AS Clima\")"
   ]
  },
  {
   "cell_type": "code",
   "execution_count": null,
   "id": "bcaec9e9",
   "metadata": {},
   "outputs": [],
   "source": [
    "# Definindo diretório do checkpoint e o deletando, caso exista\n",
    "checkpoint = '/home/marcelo/BULK/desafio_streamSpark/checkpoint'\n",
    "if os.path.exists(checkpoint):\n",
    "    shutil.rmtree(checkpoint)"
   ]
  },
  {
   "cell_type": "code",
   "execution_count": null,
   "id": "bab022ca",
   "metadata": {},
   "outputs": [],
   "source": [
    "# Salvando o Stream dos Dados baixados pela API python, no banco de dados MongoDB\n",
    "select.writeStream\\\n",
    "    .format('mongodb')\\\n",
    "    .option('spark.mongodb.connection.uri', 'mongodb://127.0.0.1:27017/')\\\n",
    "    .option('spark.mongodb.database', 'marcelo')\\\n",
    "    .option('spark.mongodb.collection', 'weather')\\\n",
    "    .option(\"checkpointLocation\", checkpoint)\\\n",
    "    .outputMode(\"append\").start().awaitTermination()"
   ]
  }
 ],
 "metadata": {
  "kernelspec": {
   "display_name": "Python 3 (ipykernel)",
   "language": "python",
   "name": "python3"
  },
  "language_info": {
   "codemirror_mode": {
    "name": "ipython",
    "version": 3
   },
   "file_extension": ".py",
   "mimetype": "text/x-python",
   "name": "python",
   "nbconvert_exporter": "python",
   "pygments_lexer": "ipython3",
   "version": "3.7.13"
  }
 },
 "nbformat": 4,
 "nbformat_minor": 5
}
