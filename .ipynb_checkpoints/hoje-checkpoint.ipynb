{
 "cells": [
  {
   "cell_type": "code",
   "execution_count": 2,
   "id": "2eb6f2d5",
   "metadata": {},
   "outputs": [],
   "source": [
    "from pyspark.sql import SparkSession\n",
    "from pyspark.sql.functions import *\n",
    "from pyspark.sql.types import *\n",
    "import requests\n",
    "import xmltodict\n",
    "\n",
    "spark = SparkSession \\\n",
    "    .builder \\\n",
    "    .appName(\"bulk_stream_spark\") \\\n",
    "    .config(\"spark.jars.packages\", \"com.databricks:spark-xml_2.12:0.15.0\")\\\n",
    "    .getOrCreate()"
   ]
  },
  {
   "cell_type": "code",
   "execution_count": 20,
   "id": "5f4c0fcb",
   "metadata": {},
   "outputs": [],
   "source": [
    "path = 'data.json'"
   ]
  },
  {
   "cell_type": "code",
   "execution_count": 21,
   "id": "98bf81e5",
   "metadata": {},
   "outputs": [],
   "source": [
    "df = spark.read.json(path=path)"
   ]
  },
  {
   "cell_type": "code",
   "execution_count": 22,
   "id": "20407aba",
   "metadata": {},
   "outputs": [
    {
     "name": "stdout",
     "output_type": "stream",
     "text": [
      "+--------------------+\n",
      "| current_observation|\n",
      "+--------------------+\n",
      "|{1.0, http://www....|\n",
      "+--------------------+\n",
      "\n"
     ]
    }
   ],
   "source": []
  },
  {
   "cell_type": "code",
   "execution_count": null,
   "id": "8af16220",
   "metadata": {},
   "outputs": [],
   "source": []
  },
  {
   "cell_type": "code",
   "execution_count": null,
   "id": "c17c7908",
   "metadata": {},
   "outputs": [],
   "source": [
    "schema = StructType('current_observation', StructType([StructField('_version', DoubleType(), True),\\\n",
    "                     StructField('_xmlns:xsd', StringType(), True), \\\n",
    "                     StructField('_xmlns:xsi', StringType(), True), \\\n",
    "                     StructField('_xsi:noNamespaceSchemaLocation', StringType(), True), \\\n",
    "                     StructField('copyright_url', StringType(), True), \\\n",
    "                     StructField('credit', StringType(), True), \\\n",
    "                     StructField('credit_URL', StringType(), True), \\\n",
    "                     StructField('dewpoint_c', DoubleType(), True), \\\n",
    "                     StructField('dewpoint_f', DoubleType(), True), \\\n",
    "                     StructField('dewpoint_string', StringType(), True), \\\n",
    "                     StructField('disclaimer_url', StringType(), True), \\\n",
    "                     StructField('icon_url_base', StringType(), True), \\\n",
    "                     StructField('icon_url_name', StringType(), True), \\\n",
    "                     StructField('image', StructType([StructField('link', StringType(), True), \\\n",
    "                                                      StructField('title', StringType(), True), \\\n",
    "                                                      StructField('url', StringType(), True)]), True), \\\n",
    "                     StructField('latitude', DoubleType(), True), \\\n",
    "                     StructField('location', StringType(), True), \\\n",
    "                     StructField('longitude', DoubleType(), True), \\\n",
    "                     StructField('ob_url', StringType(), True), \\\n",
    "                     StructField('observation_time', StringType(), True), \\\n",
    "                     StructField('observation_time_rfc822', StringType(), True), \\\n",
    "                     StructField('pressure_in', DoubleType(), True), \\\n",
    "                     StructField('pressure_mb', DoubleType(), True), \\\n",
    "                     StructField('pressure_string', StringType(), True), \\\n",
    "                     StructField('privacy_policy_url', StringType(), True), \\\n",
    "                     StructField('relative_humidity', LongType(), True), \\\n",
    "                     StructField('station_id', StringType(), True), \\\n",
    "                     StructField('suggested_pickup', StringType(), True), \\\n",
    "                     StructField('suggested_pickup_period', LongType(), True), \\\n",
    "                     StructField('temp_c', DoubleType(), True), \\\n",
    "                     StructField('temp_f', DoubleType(), True), \\\n",
    "                     StructField('temperature_string', StringType(), True), \\\n",
    "                     StructField('two_day_history_url', StringType(), True), \\\n",
    "                     StructField('visibility_mi', DoubleType(), True), \\\n",
    "                     StructField('weather', StringType(), True), \\\n",
    "                     StructField('wind_degrees', LongType(), True), \\\n",
    "                     StructField('wind_dir', StringType(), True), \\\n",
    "                     StructField('wind_gust_kt', LongType(), True), \\\n",
    "                     StructField('wind_gust_mph', DoubleType(), True), \\\n",
    "                     StructField('wind_kt', LongType(), True), \\\n",
    "                     StructField('wind_mph', DoubleType(), True), \\\n",
    "                     StructField('wind_string', StringType(), True), \\\n",
    "                     StructField('windchill_c', LongType(), True), \\\n",
    "                     StructField('windchill_f', LongType(), True), \\\n",
    "                     StructField('windchill_string', StringType(), True)]))"
   ]
  },
  {
   "cell_type": "code",
   "execution_count": 5,
   "id": "d03e59b9",
   "metadata": {},
   "outputs": [],
   "source": [
    "schema = StructType([StructField('_version', DoubleType(), True),\\\n",
    "                     StructField('_xmlns:xsd', StringType(), True), \\\n",
    "                     StructField('_xmlns:xsi', StringType(), True), \\\n",
    "                     StructField('_xsi:noNamespaceSchemaLocation', StringType(), True), \\\n",
    "                     StructField('copyright_url', StringType(), True), \\\n",
    "                     StructField('credit', StringType(), True), \\\n",
    "                     StructField('credit_URL', StringType(), True), \\\n",
    "                     StructField('dewpoint_c', DoubleType(), True), \\\n",
    "                     StructField('dewpoint_f', DoubleType(), True), \\\n",
    "                     StructField('dewpoint_string', StringType(), True), \\\n",
    "                     StructField('disclaimer_url', StringType(), True), \\\n",
    "                     StructField('icon_url_base', StringType(), True), \\\n",
    "                     StructField('icon_url_name', StringType(), True), \\\n",
    "                     StructField('image', StructType([StructField('link', StringType(), True), \\\n",
    "                                                      StructField('title', StringType(), True), \\\n",
    "                                                      StructField('url', StringType(), True)]), True), \\\n",
    "                     StructField('latitude', DoubleType(), True), \\\n",
    "                     StructField('location', StringType(), True), \\\n",
    "                     StructField('longitude', DoubleType(), True), \\\n",
    "                     StructField('ob_url', StringType(), True), \\\n",
    "                     StructField('observation_time', StringType(), True), \\\n",
    "                     StructField('observation_time_rfc822', StringType(), True), \\\n",
    "                     StructField('pressure_in', DoubleType(), True), \\\n",
    "                     StructField('pressure_mb', DoubleType(), True), \\\n",
    "                     StructField('pressure_string', StringType(), True), \\\n",
    "                     StructField('privacy_policy_url', StringType(), True), \\\n",
    "                     StructField('relative_humidity', LongType(), True), \\\n",
    "                     StructField('station_id', StringType(), True), \\\n",
    "                     StructField('suggested_pickup', StringType(), True), \\\n",
    "                     StructField('suggested_pickup_period', LongType(), True), \\\n",
    "                     StructField('temp_c', DoubleType(), True), \\\n",
    "                     StructField('temp_f', DoubleType(), True), \\\n",
    "                     StructField('temperature_string', StringType(), True), \\\n",
    "                     StructField('two_day_history_url', StringType(), True), \\\n",
    "                     StructField('visibility_mi', DoubleType(), True), \\\n",
    "                     StructField('weather', StringType(), True), \\\n",
    "                     StructField('wind_degrees', LongType(), True), \\\n",
    "                     StructField('wind_dir', StringType(), True), \\\n",
    "                     StructField('wind_gust_kt', LongType(), True), \\\n",
    "                     StructField('wind_gust_mph', DoubleType(), True), \\\n",
    "                     StructField('wind_kt', LongType(), True), \\\n",
    "                     StructField('wind_mph', DoubleType(), True), \\\n",
    "                     StructField('wind_string', StringType(), True), \\\n",
    "                     StructField('windchill_c', LongType(), True), \\\n",
    "                     StructField('windchill_f', LongType(), True), \\\n",
    "                     StructField('windchill_string', StringType(), True)])"
   ]
  },
  {
   "cell_type": "code",
   "execution_count": 6,
   "id": "9aa3c621",
   "metadata": {},
   "outputs": [],
   "source": [
    "df_json = spark.readStream.schema(schema).json(\"/home/marcelo/BULK/desafio_streamSpark/\")"
   ]
  },
  {
   "cell_type": "code",
   "execution_count": 7,
   "id": "7994ef8a",
   "metadata": {},
   "outputs": [
    {
     "data": {
      "text/plain": [
       "True"
      ]
     },
     "execution_count": 7,
     "metadata": {},
     "output_type": "execute_result"
    }
   ],
   "source": [
    "df_json.isStreaming"
   ]
  },
  {
   "cell_type": "code",
   "execution_count": 8,
   "id": "23d95e12",
   "metadata": {},
   "outputs": [],
   "source": [
    "select = df_json.select(\"location\", \"observation_time_rfc822\", \"temp_c\", \"pressure_in\", \"weather\")"
   ]
  },
  {
   "cell_type": "code",
   "execution_count": 9,
   "id": "bb6debdf",
   "metadata": {},
   "outputs": [
    {
     "name": "stdout",
     "output_type": "stream",
     "text": [
      "22/10/29 12:13:12 WARN ResolveWriteToStream: Temporary checkpoint location created which is deleted normally when the query didn't fail: /tmp/temporary-b7b3ebc6-4a01-4647-a270-aba4e48bb156. If it's required to delete it under any circumstances, please set spark.sql.streaming.forceDeleteTempCheckpointLocation to true. Important to know deleting temp checkpoint folder is best effort.\n",
      "22/10/29 12:13:13 WARN ResolveWriteToStream: spark.sql.adaptive.enabled is not supported in streaming DataFrames/Datasets and will be disabled.\n"
     ]
    },
    {
     "name": "stderr",
     "output_type": "stream",
     "text": [
      "                                                                                \r"
     ]
    },
    {
     "name": "stdout",
     "output_type": "stream",
     "text": [
      "-------------------------------------------\n",
      "Batch: 0\n",
      "-------------------------------------------\n",
      "+--------+-----------------------+------+-----------+-------+\n",
      "|location|observation_time_rfc822|temp_c|pressure_in|weather|\n",
      "+--------+-----------------------+------+-----------+-------+\n",
      "|    null|                   null|  null|       null|   null|\n",
      "|    null|                   null|  null|       null|   null|\n",
      "|    null|                   null|  null|       null|   null|\n",
      "|    null|                   null|  null|       null|   null|\n",
      "|    null|                   null|  null|       null|   null|\n",
      "|    null|                   null|  null|       null|   null|\n",
      "|    null|                   null|  null|       null|   null|\n",
      "|    null|                   null|  null|       null|   null|\n",
      "|    null|                   null|  null|       null|   null|\n",
      "|    null|                   null|  null|       null|   null|\n",
      "|    null|                   null|  null|       null|   null|\n",
      "|    null|                   null|  null|       null|   null|\n",
      "|    null|                   null|  null|       null|   null|\n",
      "|    null|                   null|  null|       null|   null|\n",
      "|    null|                   null|  null|       null|   null|\n",
      "|    null|                   null|  null|       null|   null|\n",
      "|    null|                   null|  null|       null|   null|\n",
      "|    null|                   null|  null|       null|   null|\n",
      "|    null|                   null|  null|       null|   null|\n",
      "|    null|                   null|  null|       null|   null|\n",
      "+--------+-----------------------+------+-----------+-------+\n",
      "only showing top 20 rows\n",
      "\n"
     ]
    },
    {
     "name": "stderr",
     "output_type": "stream",
     "text": [
      "ERROR:root:KeyboardInterrupt while sending command.\n",
      "Traceback (most recent call last):\n",
      "  File \"/home/marcelo/anaconda3/envs/spark/lib/python3.7/site-packages/py4j/java_gateway.py\", line 1038, in send_command\n",
      "    response = connection.send_command(command)\n",
      "  File \"/home/marcelo/anaconda3/envs/spark/lib/python3.7/site-packages/py4j/clientserver.py\", line 511, in send_command\n",
      "    answer = smart_decode(self.stream.readline()[:-1])\n",
      "  File \"/home/marcelo/anaconda3/envs/spark/lib/python3.7/socket.py\", line 589, in readinto\n",
      "    return self._sock.recv_into(b)\n",
      "KeyboardInterrupt\n"
     ]
    },
    {
     "ename": "KeyboardInterrupt",
     "evalue": "",
     "output_type": "error",
     "traceback": [
      "\u001b[0;31m---------------------------------------------------------------------------\u001b[0m",
      "\u001b[0;31mKeyboardInterrupt\u001b[0m                         Traceback (most recent call last)",
      "\u001b[0;32m/tmp/ipykernel_88347/1789232031.py\u001b[0m in \u001b[0;36m<module>\u001b[0;34m\u001b[0m\n\u001b[0;32m----> 1\u001b[0;31m \u001b[0mselect\u001b[0m\u001b[0;34m.\u001b[0m\u001b[0mwriteStream\u001b[0m\u001b[0;34m.\u001b[0m\u001b[0mformat\u001b[0m\u001b[0;34m(\u001b[0m\u001b[0;34m\"console\"\u001b[0m\u001b[0;34m)\u001b[0m\u001b[0;34m.\u001b[0m\u001b[0moutputMode\u001b[0m\u001b[0;34m(\u001b[0m\u001b[0;34m\"append\"\u001b[0m\u001b[0;34m)\u001b[0m\u001b[0;34m.\u001b[0m\u001b[0mstart\u001b[0m\u001b[0;34m(\u001b[0m\u001b[0;34m)\u001b[0m\u001b[0;34m.\u001b[0m\u001b[0mawaitTermination\u001b[0m\u001b[0;34m(\u001b[0m\u001b[0;34m)\u001b[0m\u001b[0;34m\u001b[0m\u001b[0;34m\u001b[0m\u001b[0m\n\u001b[0m",
      "\u001b[0;32m~/anaconda3/envs/spark/lib/python3.7/site-packages/pyspark/sql/streaming.py\u001b[0m in \u001b[0;36mawaitTermination\u001b[0;34m(self, timeout)\u001b[0m\n\u001b[1;32m    105\u001b[0m             \u001b[0;32mreturn\u001b[0m \u001b[0mself\u001b[0m\u001b[0;34m.\u001b[0m\u001b[0m_jsq\u001b[0m\u001b[0;34m.\u001b[0m\u001b[0mawaitTermination\u001b[0m\u001b[0;34m(\u001b[0m\u001b[0mint\u001b[0m\u001b[0;34m(\u001b[0m\u001b[0mtimeout\u001b[0m \u001b[0;34m*\u001b[0m \u001b[0;36m1000\u001b[0m\u001b[0;34m)\u001b[0m\u001b[0;34m)\u001b[0m\u001b[0;34m\u001b[0m\u001b[0;34m\u001b[0m\u001b[0m\n\u001b[1;32m    106\u001b[0m         \u001b[0;32melse\u001b[0m\u001b[0;34m:\u001b[0m\u001b[0;34m\u001b[0m\u001b[0;34m\u001b[0m\u001b[0m\n\u001b[0;32m--> 107\u001b[0;31m             \u001b[0;32mreturn\u001b[0m \u001b[0mself\u001b[0m\u001b[0;34m.\u001b[0m\u001b[0m_jsq\u001b[0m\u001b[0;34m.\u001b[0m\u001b[0mawaitTermination\u001b[0m\u001b[0;34m(\u001b[0m\u001b[0;34m)\u001b[0m\u001b[0;34m\u001b[0m\u001b[0;34m\u001b[0m\u001b[0m\n\u001b[0m\u001b[1;32m    108\u001b[0m \u001b[0;34m\u001b[0m\u001b[0m\n\u001b[1;32m    109\u001b[0m     \u001b[0;34m@\u001b[0m\u001b[0mproperty\u001b[0m  \u001b[0;31m# type: ignore[misc]\u001b[0m\u001b[0;34m\u001b[0m\u001b[0;34m\u001b[0m\u001b[0m\n",
      "\u001b[0;32m~/anaconda3/envs/spark/lib/python3.7/site-packages/py4j/java_gateway.py\u001b[0m in \u001b[0;36m__call__\u001b[0;34m(self, *args)\u001b[0m\n\u001b[1;32m   1318\u001b[0m             \u001b[0mproto\u001b[0m\u001b[0;34m.\u001b[0m\u001b[0mEND_COMMAND_PART\u001b[0m\u001b[0;34m\u001b[0m\u001b[0;34m\u001b[0m\u001b[0m\n\u001b[1;32m   1319\u001b[0m \u001b[0;34m\u001b[0m\u001b[0m\n\u001b[0;32m-> 1320\u001b[0;31m         \u001b[0manswer\u001b[0m \u001b[0;34m=\u001b[0m \u001b[0mself\u001b[0m\u001b[0;34m.\u001b[0m\u001b[0mgateway_client\u001b[0m\u001b[0;34m.\u001b[0m\u001b[0msend_command\u001b[0m\u001b[0;34m(\u001b[0m\u001b[0mcommand\u001b[0m\u001b[0;34m)\u001b[0m\u001b[0;34m\u001b[0m\u001b[0;34m\u001b[0m\u001b[0m\n\u001b[0m\u001b[1;32m   1321\u001b[0m         return_value = get_return_value(\n\u001b[1;32m   1322\u001b[0m             answer, self.gateway_client, self.target_id, self.name)\n",
      "\u001b[0;32m~/anaconda3/envs/spark/lib/python3.7/site-packages/py4j/java_gateway.py\u001b[0m in \u001b[0;36msend_command\u001b[0;34m(self, command, retry, binary)\u001b[0m\n\u001b[1;32m   1036\u001b[0m         \u001b[0mconnection\u001b[0m \u001b[0;34m=\u001b[0m \u001b[0mself\u001b[0m\u001b[0;34m.\u001b[0m\u001b[0m_get_connection\u001b[0m\u001b[0;34m(\u001b[0m\u001b[0;34m)\u001b[0m\u001b[0;34m\u001b[0m\u001b[0;34m\u001b[0m\u001b[0m\n\u001b[1;32m   1037\u001b[0m         \u001b[0;32mtry\u001b[0m\u001b[0;34m:\u001b[0m\u001b[0;34m\u001b[0m\u001b[0;34m\u001b[0m\u001b[0m\n\u001b[0;32m-> 1038\u001b[0;31m             \u001b[0mresponse\u001b[0m \u001b[0;34m=\u001b[0m \u001b[0mconnection\u001b[0m\u001b[0;34m.\u001b[0m\u001b[0msend_command\u001b[0m\u001b[0;34m(\u001b[0m\u001b[0mcommand\u001b[0m\u001b[0;34m)\u001b[0m\u001b[0;34m\u001b[0m\u001b[0;34m\u001b[0m\u001b[0m\n\u001b[0m\u001b[1;32m   1039\u001b[0m             \u001b[0;32mif\u001b[0m \u001b[0mbinary\u001b[0m\u001b[0;34m:\u001b[0m\u001b[0;34m\u001b[0m\u001b[0;34m\u001b[0m\u001b[0m\n\u001b[1;32m   1040\u001b[0m                 \u001b[0;32mreturn\u001b[0m \u001b[0mresponse\u001b[0m\u001b[0;34m,\u001b[0m \u001b[0mself\u001b[0m\u001b[0;34m.\u001b[0m\u001b[0m_create_connection_guard\u001b[0m\u001b[0;34m(\u001b[0m\u001b[0mconnection\u001b[0m\u001b[0;34m)\u001b[0m\u001b[0;34m\u001b[0m\u001b[0;34m\u001b[0m\u001b[0m\n",
      "\u001b[0;32m~/anaconda3/envs/spark/lib/python3.7/site-packages/py4j/clientserver.py\u001b[0m in \u001b[0;36msend_command\u001b[0;34m(self, command)\u001b[0m\n\u001b[1;32m    509\u001b[0m         \u001b[0;32mtry\u001b[0m\u001b[0;34m:\u001b[0m\u001b[0;34m\u001b[0m\u001b[0;34m\u001b[0m\u001b[0m\n\u001b[1;32m    510\u001b[0m             \u001b[0;32mwhile\u001b[0m \u001b[0;32mTrue\u001b[0m\u001b[0;34m:\u001b[0m\u001b[0;34m\u001b[0m\u001b[0;34m\u001b[0m\u001b[0m\n\u001b[0;32m--> 511\u001b[0;31m                 \u001b[0manswer\u001b[0m \u001b[0;34m=\u001b[0m \u001b[0msmart_decode\u001b[0m\u001b[0;34m(\u001b[0m\u001b[0mself\u001b[0m\u001b[0;34m.\u001b[0m\u001b[0mstream\u001b[0m\u001b[0;34m.\u001b[0m\u001b[0mreadline\u001b[0m\u001b[0;34m(\u001b[0m\u001b[0;34m)\u001b[0m\u001b[0;34m[\u001b[0m\u001b[0;34m:\u001b[0m\u001b[0;34m-\u001b[0m\u001b[0;36m1\u001b[0m\u001b[0;34m]\u001b[0m\u001b[0;34m)\u001b[0m\u001b[0;34m\u001b[0m\u001b[0;34m\u001b[0m\u001b[0m\n\u001b[0m\u001b[1;32m    512\u001b[0m                 \u001b[0mlogger\u001b[0m\u001b[0;34m.\u001b[0m\u001b[0mdebug\u001b[0m\u001b[0;34m(\u001b[0m\u001b[0;34m\"Answer received: {0}\"\u001b[0m\u001b[0;34m.\u001b[0m\u001b[0mformat\u001b[0m\u001b[0;34m(\u001b[0m\u001b[0manswer\u001b[0m\u001b[0;34m)\u001b[0m\u001b[0;34m)\u001b[0m\u001b[0;34m\u001b[0m\u001b[0;34m\u001b[0m\u001b[0m\n\u001b[1;32m    513\u001b[0m                 \u001b[0;31m# Happens when a the other end is dead. There might be an empty\u001b[0m\u001b[0;34m\u001b[0m\u001b[0;34m\u001b[0m\u001b[0;34m\u001b[0m\u001b[0m\n",
      "\u001b[0;32m~/anaconda3/envs/spark/lib/python3.7/socket.py\u001b[0m in \u001b[0;36mreadinto\u001b[0;34m(self, b)\u001b[0m\n\u001b[1;32m    587\u001b[0m         \u001b[0;32mwhile\u001b[0m \u001b[0;32mTrue\u001b[0m\u001b[0;34m:\u001b[0m\u001b[0;34m\u001b[0m\u001b[0;34m\u001b[0m\u001b[0m\n\u001b[1;32m    588\u001b[0m             \u001b[0;32mtry\u001b[0m\u001b[0;34m:\u001b[0m\u001b[0;34m\u001b[0m\u001b[0;34m\u001b[0m\u001b[0m\n\u001b[0;32m--> 589\u001b[0;31m                 \u001b[0;32mreturn\u001b[0m \u001b[0mself\u001b[0m\u001b[0;34m.\u001b[0m\u001b[0m_sock\u001b[0m\u001b[0;34m.\u001b[0m\u001b[0mrecv_into\u001b[0m\u001b[0;34m(\u001b[0m\u001b[0mb\u001b[0m\u001b[0;34m)\u001b[0m\u001b[0;34m\u001b[0m\u001b[0;34m\u001b[0m\u001b[0m\n\u001b[0m\u001b[1;32m    590\u001b[0m             \u001b[0;32mexcept\u001b[0m \u001b[0mtimeout\u001b[0m\u001b[0;34m:\u001b[0m\u001b[0;34m\u001b[0m\u001b[0;34m\u001b[0m\u001b[0m\n\u001b[1;32m    591\u001b[0m                 \u001b[0mself\u001b[0m\u001b[0;34m.\u001b[0m\u001b[0m_timeout_occurred\u001b[0m \u001b[0;34m=\u001b[0m \u001b[0;32mTrue\u001b[0m\u001b[0;34m\u001b[0m\u001b[0;34m\u001b[0m\u001b[0m\n",
      "\u001b[0;31mKeyboardInterrupt\u001b[0m: "
     ]
    }
   ],
   "source": [
    "select.writeStream.format(\"console\").outputMode(\"append\").start().awaitTermination()"
   ]
  },
  {
   "cell_type": "code",
   "execution_count": null,
   "id": "8965706e",
   "metadata": {},
   "outputs": [],
   "source": []
  },
  {
   "cell_type": "code",
   "execution_count": null,
   "id": "89a0f30a",
   "metadata": {},
   "outputs": [],
   "source": []
  },
  {
   "cell_type": "code",
   "execution_count": null,
   "id": "5f9fc0c7",
   "metadata": {},
   "outputs": [],
   "source": []
  },
  {
   "cell_type": "code",
   "execution_count": null,
   "id": "e9262913",
   "metadata": {},
   "outputs": [],
   "source": []
  },
  {
   "cell_type": "code",
   "execution_count": null,
   "id": "6f4c9204",
   "metadata": {},
   "outputs": [],
   "source": []
  },
  {
   "cell_type": "code",
   "execution_count": null,
   "id": "8e36bfb0",
   "metadata": {},
   "outputs": [],
   "source": []
  },
  {
   "cell_type": "code",
   "execution_count": null,
   "id": "3ded686c",
   "metadata": {},
   "outputs": [],
   "source": []
  },
  {
   "cell_type": "code",
   "execution_count": null,
   "id": "43f72270",
   "metadata": {},
   "outputs": [],
   "source": []
  },
  {
   "cell_type": "code",
   "execution_count": null,
   "id": "0522d4f0",
   "metadata": {},
   "outputs": [],
   "source": []
  }
 ],
 "metadata": {
  "kernelspec": {
   "display_name": "Python 3 (ipykernel)",
   "language": "python",
   "name": "python3"
  },
  "language_info": {
   "codemirror_mode": {
    "name": "ipython",
    "version": 3
   },
   "file_extension": ".py",
   "mimetype": "text/x-python",
   "name": "python",
   "nbconvert_exporter": "python",
   "pygments_lexer": "ipython3",
   "version": "3.7.13"
  }
 },
 "nbformat": 4,
 "nbformat_minor": 5
}
